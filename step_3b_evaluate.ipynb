{
 "cells": [
  {
   "cell_type": "markdown",
   "metadata": {},
   "source": [
    "# Step 3b -- Evaluate / Plot trained model"
   ]
  },
  {
   "cell_type": "code",
   "execution_count": null,
   "metadata": {},
   "outputs": [],
   "source": [
    "import matplotlib.pyplot as plt\n",
    "import seaborn as sns\n",
    "import pandas as pd\n",
    "import numpy as np\n",
    "import joblib\n",
    "\n",
    "import config"
   ]
  },
  {
   "cell_type": "code",
   "execution_count": null,
   "metadata": {},
   "outputs": [],
   "source": [
    "df_scores = pd.read_csv(config.OUT_DIR / \"test_scores.csv\", index_col=0)\n",
    "df_scores"
   ]
  },
  {
   "cell_type": "code",
   "execution_count": null,
   "metadata": {},
   "outputs": [],
   "source": [
    "df_test_pred = pd.read_csv(config.OUT_DIR / \"test_predictions.csv\", index_col=0, parse_dates=True)\n",
    "df_test_pred"
   ]
  },
  {
   "cell_type": "code",
   "execution_count": null,
   "metadata": {},
   "outputs": [],
   "source": [
    "# Scatter plot\n",
    "fig, ax = plt.subplots()\n",
    "sns.scatterplot(df_test_pred, x=\"Cn2_true\", y=\"Cn2_pred\", ax=ax)"
   ]
  },
  {
   "cell_type": "code",
   "execution_count": null,
   "metadata": {},
   "outputs": [],
   "source": [
    "## QQ plot\n",
    "fig, ax = plt.subplots()\n",
    "x = np.sort(df_test_pred[\"Cn2_true\"].values)\n",
    "y = np.sort(df_test_pred[\"Cn2_pred\"].values)\n",
    "ax.scatter(x, y, s=2)\n",
    "ax.plot(x[[0, -1]], y[[0, -1]], color=\"black\", linestyle=\"--\")"
   ]
  },
  {
   "cell_type": "code",
   "execution_count": null,
   "metadata": {},
   "outputs": [],
   "source": [
    "## Randomly selected weeks as example\n",
    "n = 20\n",
    "days = df_test_pred.index.round(\"D\").unique()\n",
    "days = np.random.choice(days, n, replace=False)\n",
    "dt = pd.Timedelta(\"7D\")\n",
    "\n",
    "n_cols = 4\n",
    "n_rows = n // n_cols\n",
    "fig, axarr = plt.subplots(n_rows, n_cols, figsize=(5 * n_cols, 3 * n_rows), sharey=\"all\")\n",
    "\n",
    "for ax, day_start in zip(axarr.flat, days):\n",
    "    df_i = df_test_pred.loc[day_start:day_start + dt]\n",
    "    ax.plot(df_i.index, df_i[\"Cn2_true\"], label=\"True\")\n",
    "    ax.plot(df_i.index, df_i[\"Cn2_pred\"], label=\"Pred\")\n"
   ]
  },
  {
   "cell_type": "code",
   "execution_count": null,
   "metadata": {},
   "outputs": [],
   "source": [
    "df_fi = pd.read_csv(config.OUT_DIR / \"shap_fi.csv\", index_col=0)\n",
    "df_fi"
   ]
  },
  {
   "cell_type": "code",
   "execution_count": null,
   "metadata": {},
   "outputs": [],
   "source": [
    "fig, ax = plt.subplots(figsize=(3, 8))\n",
    "df_fi.plot.barh(ax=ax)"
   ]
  },
  {
   "cell_type": "code",
   "execution_count": null,
   "metadata": {},
   "outputs": [],
   "source": [
    "era5_grouped = {\n",
    "    \"rad\": [\n",
    "        \"msdrswrf\", \"msdwlwrf\", \"msdwswrf\", \"msnlwrf\", \"msnswrf\"\n",
    "    ],\n",
    "    \"hr\": [\"sin_hr\", \"cos_hr\"],\n",
    "    \"day\": [\"sin_day\", \"cos_day\"],\n",
    "    \"month\": [\"sin_month\", \"cos_month\"],\n",
    "    \"cloud\": [\"lcc\", \"tcc\"],\n",
    "    \"X\": [\"sin_X10\", \"sin_X100\", \"cos_X10\", \"cos_X100\"],\n",
    "    \"dT\": [\"dT0\", \"dT1\"],\n",
    "}\n",
    "others = [c for c in df_fi.index if c not in np.concatenate(list(era5_grouped.values()))]\n",
    "\n",
    "fi_grouped = {k: df_fi.loc[v].sum() for k, v in era5_grouped.items()}\n",
    "\n",
    "df_fi_grouped = pd.DataFrame(fi_grouped).T\n",
    "df_fi_grouped = pd.concat([df_fi_grouped, df_fi.loc[others]])\n",
    "df_fi_grouped = df_fi_grouped.sort_values(by=\"fi_shap\", ascending=False)\n",
    "df_fi_grouped"
   ]
  },
  {
   "cell_type": "code",
   "execution_count": null,
   "metadata": {},
   "outputs": [],
   "source": [
    "fig, ax = plt.subplots(figsize=(3, 8))\n",
    "df_fi_grouped.plot.barh(ax=ax)"
   ]
  },
  {
   "cell_type": "code",
   "execution_count": null,
   "metadata": {},
   "outputs": [],
   "source": []
  }
 ],
 "metadata": {
  "kernelspec": {
   "display_name": "otclim",
   "language": "python",
   "name": "python3"
  },
  "language_info": {
   "codemirror_mode": {
    "name": "ipython",
    "version": 3
   },
   "file_extension": ".py",
   "mimetype": "text/x-python",
   "name": "python",
   "nbconvert_exporter": "python",
   "pygments_lexer": "ipython3",
   "version": "3.11.8"
  }
 },
 "nbformat": 4,
 "nbformat_minor": 2
}
